{
 "cells": [
  {
   "cell_type": "markdown",
   "metadata": {},
   "source": [
    "This notebook evaluates different methods for tokenization and stemming/lemmatization\n",
    "and assesses the impact on binary sentiment classification, using a train/dev dataset of sample of 1000 reviews from the [Large Movie Review Dataset](http://ai.stanford.edu/~amaas/data/sentiment/).  Each tokenization method is evaluated on the same learning algorithm ($\\ell_2$-regularized logistic regression); the only difference is the tokenization process. For more, see: http://sentiment.christopherpotts.net/tokenizing.html"
   ]
  },
  {
   "cell_type": "code",
   "execution_count": 1,
   "metadata": {},
   "outputs": [],
   "source": [
    "import nltk\n",
    "import spacy\n",
    "from nltk.stem.porter import *\n",
    "from TokenizationTest import TokenizationTest\n",
    "from happyfuntokenizing import Tokenizer as potts"
   ]
  },
  {
   "cell_type": "code",
   "execution_count": 2,
   "metadata": {},
   "outputs": [],
   "source": [
    "# spaCy lemmatization needs tagger but disable the rest\n",
    "nlp = spacy.load('en_core_web_sm', disable=['ner,parser'])\n",
    "nlp.remove_pipe('ner')\n",
    "nlp.remove_pipe('parser')\n",
    "\n",
    "# load NLTK porter stemmer\n",
    "stemmer = PorterStemmer()\n",
    "\n",
    "# load Potts sentiment tokenizer\n",
    "potts_tokenizer=potts()"
   ]
  },
  {
   "cell_type": "code",
   "execution_count": 3,
   "metadata": {},
   "outputs": [],
   "source": [
    "def spacy_tokenizer(data):\n",
    "    spacy_tokens=nlp(data)\n",
    "    return [token.text for token in spacy_tokens]\n",
    "\n",
    "def spacy_lemmatizer(data):\n",
    "    spacy_tokens=nlp(data)\n",
    "    return [token.lemma_ for token in spacy_tokens]"
   ]
  },
  {
   "cell_type": "code",
   "execution_count": 4,
   "metadata": {},
   "outputs": [],
   "source": [
    "tester=TokenizationTest(\"../../../Data/sentiment.1000.train.txt\", \"../../../Data/sentiment.1000.dev.txt\")"
   ]
  },
  {
   "cell_type": "code",
   "execution_count": 5,
   "metadata": {},
   "outputs": [
    {
     "name": "stdout",
     "output_type": "stream",
     "text": [
      "Tokenized text:  It was simple and yet so nice. I think the whole sense of sex segregation in society, which can be bitter, was shown very delicately. It had a bitter kind of hummer in it. The fact that most of the actors were not professionals, made the movie more tangible and more realistic. There was a \"documentary\" side to the movie too. The best scenes were those that all the girls, banned from watching, were listening passionately to the soldier, who is supposed to keep an eye on them, broadcasting the game. If you are an Iranian, the familiar cheering and dancing in the streets after a game won, fills you up with National pride!! If you are not Iranian, you'll still love it all the same!\n",
      "Function 'split' Accuracy: 0.856\n"
     ]
    }
   ],
   "source": [
    "tester.evaluate(str.split)"
   ]
  },
  {
   "cell_type": "code",
   "execution_count": 6,
   "metadata": {},
   "outputs": [
    {
     "name": "stdout",
     "output_type": "stream",
     "text": [
      "Tokenized text:  i t   w a s   s i m p l e   a n d   y e t   s o   n i c e .   i   t h i n k   t h e   w h o l e   s e n s e   o f   s e x   s e g r e g a t i o n   i n   s o c i e t y ,   w h i c h   c a n   b e   b i t t e r ,   w a s   s h o w n   v e r y   d e l i c a t e l y .   i t   h a d   a   b i t t e r   k i n d   o f   h u m m e r   i n   i t .   t h e   f a c t   t h a t   m o s t   o f   t h e   a c t o r s   w e r e   n o t   p r o f e s s i o n a l s ,   m a d e   t h e   m o v i e   m o r e   t a n g i b l e   a n d   m o r e   r e a l i s t i c .   t h e r e   w a s   a   \" d o c u m e n t a r y \"   s i d e   t o   t h e   m o v i e   t o o .   t h e   b e s t   s c e n e s   w e r e   t h o s e   t h a t   a l l   t h e   g i r l s ,   b a n n e d   f r o m   w a t c h i n g ,   w e r e   l i s t e n i n g   p a s s i o n a t e l y   t o   t h e   s o l d i e r ,   w h o   i s   s u p p o s e d   t o   k e e p   a n   e y e   o n   t h e m ,   b r o a d c a s t i n g   t h e   g a m e .   i f   y o u   a r e   a n   i r a n i a n ,   t h e   f a m i l i a r   c h e e r i n g   a n d   d a n c i n g   i n   t h e   s t r e e t s   a f t e r   a   g a m e   w o n ,   f i l l s   y o u   u p   w i t h   n a t i o n a l   p r i d e ! !   i f   y o u   a r e   n o t   i r a n i a n ,   y o u ' l l   s t i l l   l o v e   i t   a l l   t h e   s a m e !\n",
      "Function 'stem' Accuracy: 0.825\n"
     ]
    }
   ],
   "source": [
    "tester.evaluate(stemmer.stem)"
   ]
  },
  {
   "cell_type": "code",
   "execution_count": 10,
   "metadata": {},
   "outputs": [
    {
     "name": "stdout",
     "output_type": "stream",
     "text": [
      "Tokenized text:  It was simple and yet so nice . I think the whole sense of sex segregation in society , which can be bitter , was shown very delicately . It had a bitter kind of hummer in it . The fact that most of the actors were not professionals , made the movie more tangible and more realistic . There was a `` documentary '' side to the movie too . The best scenes were those that all the girls , banned from watching , were listening passionately to the soldier , who is supposed to keep an eye on them , broadcasting the game . If you are an Iranian , the familiar cheering and dancing in the streets after a game won , fills you up with National pride ! ! If you are not Iranian , you 'll still love it all the same !\n",
      "Function 'word_tokenize' Accuracy: 0.876\n"
     ]
    }
   ],
   "source": [
    "tester.evaluate(nltk.word_tokenize)"
   ]
  },
  {
   "cell_type": "code",
   "execution_count": 11,
   "metadata": {
    "scrolled": true
   },
   "outputs": [
    {
     "name": "stdout",
     "output_type": "stream",
     "text": [
      "Tokenized text:  It was simple and yet so nice . I think the whole sense of sex segregation in society , which can be bitter , was shown very delicately . It had a bitter kind of hummer in it . The fact that most of the actors were not professionals , made the movie more tangible and more realistic . There was a \" documentary \" side to the movie too . The best scenes were those that all the girls , banned from watching , were listening passionately to the soldier , who is supposed to keep an eye on them , broadcasting the game . If you are an Iranian , the familiar cheering and dancing in the streets after a game won , fills you up with National pride ! ! If you are not Iranian , you 'll still love it all the same !\n",
      "Function 'spacy_tokenizer' Accuracy: 0.871\n"
     ]
    }
   ],
   "source": [
    "tester.evaluate(spacy_tokenizer)"
   ]
  },
  {
   "cell_type": "code",
   "execution_count": 12,
   "metadata": {
    "scrolled": true
   },
   "outputs": [
    {
     "name": "stdout",
     "output_type": "stream",
     "text": [
      "Tokenized text:  it be simple and yet so nice . I think the whole sense of sex segregation in society , which can be bitter , be show very delicately . it have a bitter kind of hummer in it . the fact that most of the actor be not professional , make the movie more tangible and more realistic . there be a \" documentary \" side to the movie too . the good scene be those that all the girl , ban from watch , be listen passionately to the soldier , who be suppose to keep an eye on they , broadcast the game . if you be an Iranian , the familiar cheering and dance in the street after a game win , fill you up with National pride ! ! if you be not iranian , you will still love it all the same !\n",
      "Function 'spacy_lemmatizer' Accuracy: 0.869\n"
     ]
    }
   ],
   "source": [
    "tester.evaluate(spacy_lemmatizer)"
   ]
  },
  {
   "cell_type": "code",
   "execution_count": 13,
   "metadata": {},
   "outputs": [
    {
     "name": "stderr",
     "output_type": "stream",
     "text": [
      "/Users/can.kara/Desktop/anlp2023_guz/Codes/1.Basics/4_TokenizerExamples/happyfuntokenizing.py:151: GuessedAtParserWarning: No parser was explicitly specified, so I'm using the best available HTML parser for this system (\"html.parser\"). This usually isn't a problem, but if you run this code on another system, or in a different virtual environment, it may use a different parser and behave differently.\n",
      "\n",
      "The code that caused this warning is on line 151 of the file /Users/can.kara/Desktop/anlp2023_guz/Codes/1.Basics/4_TokenizerExamples/happyfuntokenizing.py. To get rid of this warning, pass the additional argument 'features=\"html.parser\"' to the BeautifulSoup constructor.\n",
      "\n",
      "  s = BeautifulSoup(s).get_text(\" \")\n",
      "/Users/can.kara/Desktop/anlp2023_guz/Codes/1.Basics/4_TokenizerExamples/happyfuntokenizing.py:151: MarkupResemblesLocatorWarning: The input looks more like a filename than markup. You may want to open this file and pass the filehandle into Beautiful Soup.\n",
      "  s = BeautifulSoup(s).get_text(\" \")\n"
     ]
    },
    {
     "name": "stdout",
     "output_type": "stream",
     "text": [
      "Tokenized text:  it was simple and yet so nice . i think the whole sense of sex segregation in society , which can be bitter , was shown very delicately . it had a bitter kind of hummer in it . the fact that most of the actors were not professionals , made the movie more tangible and more realistic . there was a \" documentary \" side to the movie too . the best scenes were those that all the girls , banned from watching , were listening passionately to the soldier , who is supposed to keep an eye on them , broadcasting the game . if you are an iranian , the familiar cheering and dancing in the streets after a game won , fills you up with national pride ! ! if you are not iranian , you'll still love it all the same !\n",
      "Function 'tokenize' Accuracy: 0.883\n"
     ]
    }
   ],
   "source": [
    "tester.evaluate(potts_tokenizer.tokenize)"
   ]
  }
 ],
 "metadata": {
  "kernelspec": {
   "display_name": "Python 3 (ipykernel)",
   "language": "python",
   "name": "python3"
  },
  "language_info": {
   "codemirror_mode": {
    "name": "ipython",
    "version": 3
   },
   "file_extension": ".py",
   "mimetype": "text/x-python",
   "name": "python",
   "nbconvert_exporter": "python",
   "pygments_lexer": "ipython3",
   "version": "3.11.10"
  }
 },
 "nbformat": 4,
 "nbformat_minor": 2
}
